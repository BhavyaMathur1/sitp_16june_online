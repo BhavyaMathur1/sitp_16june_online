{
 "cells": [
  {
   "cell_type": "markdown",
   "id": "256d9f32",
   "metadata": {},
   "source": [
    "# OS"
   ]
  },
  {
   "cell_type": "code",
   "execution_count": 2,
   "id": "7e0d9fe8",
   "metadata": {},
   "outputs": [],
   "source": [
    "import os ## operating system module and import is key word"
   ]
  },
  {
   "cell_type": "code",
   "execution_count": 3,
   "metadata": {},
   "outputs": [
    {
     "name": "stdout",
     "output_type": "stream",
     "text": [
      "Current working directory:- c:\\Users\\HP\\OneDrive\\Desktop\\data science\\os\n"
     ]
    }
   ],
   "source": [
    "folder_path = os.getcwd() # Get the current working directory\n",
    "print(\"Current working directory:-\", folder_path)"
   ]
  },
  {
   "cell_type": "code",
   "execution_count": 4,
   "id": "360102ec",
   "metadata": {},
   "outputs": [
    {
     "name": "stdout",
     "output_type": "stream",
     "text": [
      "Total files in the current directory:- ['os.ipynb']\n"
     ]
    }
   ],
   "source": [
    "total_files=os.listdir() # List all files and directories in the current directory\n",
    "print(\"Total files in the current directory:-\", total_files)"
   ]
  },
  {
   "cell_type": "code",
   "execution_count": 7,
   "id": "66438d40",
   "metadata": {},
   "outputs": [
    {
     "name": "stdout",
     "output_type": "stream",
     "text": [
      "Total files in the current directory:- ['B.Tech_AI_3_&_4_Semester_Session_2021-22_Scheme&Syllabus.pdf', 'bhavya (Person 1) - Chrome.lnk', 'Canva.lnk', 'data science', 'dbms project.sql', 'DBMS PROJECT.txt', 'demo.py', 'desktop.ini', 'Google Photos.lnk', 'Grammarly-LAPTOP-297MOB3I.lnk', 'Grammarly.lnk', 'main.py', 'Microsoft Teams (work or school).lnk', 'MPC-HC.lnk', 'new.css', 'new.html', 'project1.py', 'python.code-workspace', 'Visual Studio Code.lnk', 'WhatsApp Image 2025-06-11 at 18.43.35_fcb0751e.jpg']\n"
     ]
    }
   ],
   "source": [
    "total_files = os.listdir(r\"c:\\Users\\HP\\OneDrive\\Desktop\")\n",
    "print(\"Total files in the current directory:-\", total_files)"
   ]
  },
  {
   "cell_type": "code",
   "execution_count": 8,
   "id": "8a5784b1",
   "metadata": {},
   "outputs": [
    {
     "name": "stdout",
     "output_type": "stream",
     "text": [
      "New folder created successfully.\n"
     ]
    }
   ],
   "source": [
    "os .mkdir(\"new_folder\") # Create a new folder named 'new_folder'\n",
    "print(\"New folder created successfully.\")"
   ]
  },
  {
   "cell_type": "code",
   "execution_count": 9,
   "id": "29a88208",
   "metadata": {},
   "outputs": [
    {
     "name": "stdout",
     "output_type": "stream",
     "text": [
      "Total files in the current directory after creating new folder:- ['new_folder', 'os.ipynb']\n"
     ]
    }
   ],
   "source": [
    "total_files = os.listdir() # List all files and directories again\n",
    "print(\"Total files in the current directory after creating new folder:-\", total_files)"
   ]
  },
  {
   "cell_type": "code",
   "execution_count": 10,
   "id": "d3195bad",
   "metadata": {},
   "outputs": [
    {
     "name": "stdout",
     "output_type": "stream",
     "text": [
      "Folder renamed successfully.\n"
     ]
    }
   ],
   "source": [
    "os.rename(\"new_folder\", \"renamed_folder\") # Rename the folder from 'new_folder' to 'renamed_folder'\n",
    "print(\"Folder renamed successfully.\")"
   ]
  },
  {
   "cell_type": "code",
   "execution_count": 11,
   "id": "4f3d9c72",
   "metadata": {},
   "outputs": [
    {
     "name": "stdout",
     "output_type": "stream",
     "text": [
      "Folder removed successfully.\n"
     ]
    }
   ],
   "source": [
    "os.rmdir(\"renamed_folder\") # Remove the folder named 'renamed_folder'\n",
    "print(\"Folder removed successfully.\")"
   ]
  },
  {
   "cell_type": "code",
   "execution_count": 12,
   "id": "9822ff9b",
   "metadata": {},
   "outputs": [
    {
     "name": "stdout",
     "output_type": "stream",
     "text": [
      "Total files in the current directory after creating new folder:- ['os.ipynb']\n"
     ]
    }
   ],
   "source": [
    "total_files = os.listdir() # List all files and directories again\n",
    "print(\"Total files in the current directory after creating new folder:-\", total_files)"
   ]
  },
  {
   "cell_type": "code",
   "execution_count": 13,
   "id": "640cea7e",
   "metadata": {},
   "outputs": [],
   "source": [
    "#os.remove(\"file.txt\") # Uncomment this line to remove a file named 'file.txt' if it exists\n",
    "#print(\"File removed successfully.\") # This line will execute if the file is removed"
   ]
  },
  {
   "cell_type": "code",
   "execution_count": 27,
   "metadata": {},
   "outputs": [
    {
     "name": "stdout",
     "output_type": "stream",
     "text": [
      "System PATH environment variable: c:\\Users\\HP\\AppData\\Local\\Programs\\Python\\Python311;c:\\Users\\HP\\AppData\\Roaming\\Python\\Python311\\Scripts;C:\\WINDOWS\\system32;C:\\WINDOWS;C:\\WINDOWS\\System32\\Wbem;C:\\WINDOWS\\System32\\WindowsPowerShell\\v1.0\\;C:\\WINDOWS\\System32\\OpenSSH\\;C:\\Program Files\\MySQL\\MySQL Server 8.0\\bin;C:\\Users\\HP\\AppData\\Local\\Programs\\Python\\Python313\\Scripts\\;C:\\Users\\HP\\AppData\\Local\\Programs\\Python\\Python313\\;C:\\Users\\HP\\AppData\\Local\\Programs\\Python\\Launcher\\;C:\\Program Files\\MySQL\\MySQL Shell 8.0\\bin\\;C:\\Users\\HP\\AppData\\Local\\Microsoft\\WindowsApps;C:\\Users\\HP\\AppData\\Local\\Programs\\Microsoft VS Code\\bin;C:\\WINDOWS\\system32;C:\\WINDOWS;C:\\WINDOWS\\System32\\Wbem;C:\\WINDOWS\\System32\\WindowsPowerShell\\v1.0\\;C:\\WINDOWS\\System32\\OpenSSH\\;C:\\Program Files\\MySQL\\MySQL Server 8.0\\bin;C:\\Users\\HP\\AppData\\Local\\Programs\\Python\\Python313\\Scripts\\;C:\\Users\\HP\\AppData\\Local\\Programs\\Python\\Python313\\;C:\\Users\\HP\\AppData\\Local\\Programs\\Python\\Launcher\\;C:\\Program Files\\MySQL\\MySQL Shell 8.0\\bin\\;C:\\Users\\HP\\AppData\\Local\\Microsoft\\WindowsApps;C:\\Users\\HP\\AppData\\Local\\Programs\\Microsoft VS Code\\bin\n"
     ]
    }
   ],
   "source": [
    "import os\n",
    "path = r\"c:\\Users\\HP\\OneDrive\\Desktop\\data science\" # Define the path to the new folder\n",
    "system_path = os.environ.get(\"PATH\") \n",
    "print(\"System PATH environment variable:\", system_path)"
   ]
  },
  {
   "cell_type": "code",
   "execution_count": 9,
   "id": "455509e6",
   "metadata": {},
   "outputs": [
    {
     "data": {
      "text/plain": [
       "'c:\\\\Users\\\\HP\\\\OneDrive\\\\Desktop\\\\data science\\\\os'"
      ]
     },
     "execution_count": 9,
     "metadata": {},
     "output_type": "execute_result"
    }
   ],
   "source": [
    "import os\n",
    "os.getcwd()"
   ]
  },
  {
   "cell_type": "code",
   "execution_count": 10,
   "id": "8cc7effe",
   "metadata": {},
   "outputs": [
    {
     "data": {
      "text/plain": [
       "False"
      ]
     },
     "execution_count": 10,
     "metadata": {},
     "output_type": "execute_result"
    }
   ],
   "source": [
    "# for file\n",
    "os.path.isfile(r\"c:\\\\Users\\\\HP\\\\OneDrive\\\\Desktop\\\\data science\\\\os'\")"
   ]
  },
  {
   "cell_type": "code",
   "execution_count": 11,
   "metadata": {},
   "outputs": [
    {
     "data": {
      "text/plain": [
       "True"
      ]
     },
     "execution_count": 11,
     "metadata": {},
     "output_type": "execute_result"
    }
   ],
   "source": [
    "# for dir\n",
    "\n",
    "os.path.isdir(r\"c:\\\\Users\\\\HP\\\\OneDrive\\\\Desktop\\\\data science\\\\os'\") # Check if the path is a directory\n",
    "os.path.isdir(r\"c:\\\\Users\\\\HP\\\\OneDrive\\\\Desktop\\\\data science\")"
   ]
  },
  {
   "cell_type": "code",
   "execution_count": 14,
   "id": "e91631ae",
   "metadata": {},
   "outputs": [
    {
     "name": "stdout",
     "output_type": "stream",
     "text": [
      "Complete path: c:\\Users\\HP\\OneDrive\\Desktop\\data science\\os\n",
      "your list ['os.ipynb']\n"
     ]
    }
   ],
   "source": [
    "# Use the existing 'path' variable and join with 'os'\n",
    "complete_path = os.path.join(path, \"os\") # Join the existing path with 'os'\n",
    "print(\"Complete path:\", complete_path)\n",
    "print(\"your list\", os.listdir(complete_path)) # List the contents of the complete path"
   ]
  },
  {
   "cell_type": "code",
   "execution_count": 15,
   "id": "12e2aadd",
   "metadata": {},
   "outputs": [
    {
     "name": "stdout",
     "output_type": "stream",
     "text": [
      "Size of the file or directory: 0 bytes\n"
     ]
    }
   ],
   "source": [
    "path = r\"c:\\Users\\HP\\OneDrive\\Desktop\\data science\\os\"\n",
    "size = os.path.getsize(path) # Get the size of the file or directory at 'path'\n",
    "print(\"Size of the file or directory:\", size, \"bytes\") # Print the size in bytes\n"
   ]
  },
  {
   "cell_type": "code",
   "execution_count": 18,
   "id": "1274705d",
   "metadata": {},
   "outputs": [
    {
     "name": "stdout",
     "output_type": "stream",
     "text": [
      "Size of folder: 0 bytes\n"
     ]
    }
   ],
   "source": [
    "# Use the existing 'path' variable or specify a valid path\n",
    "size = os.path.getsize(path) # Get the size of the file or directory at 'path'\n",
    "print(\"Size of folder:\", size, \"bytes\") # Print the size in bytes"
   ]
  },
  {
   "cell_type": "code",
   "execution_count": 21,
   "id": "4450215a",
   "metadata": {},
   "outputs": [
    {
     "name": "stdout",
     "output_type": "stream",
     "text": [
      "Result of lambda function with input 5: 10\n"
     ]
    }
   ],
   "source": [
    "#lambda function\n",
    "#anonymous function\n",
    "lambda_function = lambda x: x * 2 # Define a lambda function that doubles the input\n",
    "print(\"Result of lambda function with input 5:\", lambda_function(5)) # Call the"
   ]
  },
  {
   "cell_type": "code",
   "execution_count": 23,
   "metadata": {},
   "outputs": [
    {
     "name": "stdout",
     "output_type": "stream",
     "text": [
      "15\n"
     ]
    }
   ],
   "source": [
    "from numpy import add\n",
    "\n",
    "\n",
    "lambda x, y : x + y # Define a lambda function that adds two inputs\n",
    "print(add(5, 10))"
   ]
  },
  {
   "cell_type": "code",
   "execution_count": 24,
   "id": "eb984bea",
   "metadata": {},
   "outputs": [
    {
     "name": "stdout",
     "output_type": "stream",
     "text": [
      "15\n"
     ]
    }
   ],
   "source": [
    "print(add(5, 10)) # Call the lambda function with inputs 5 and 10"
   ]
  },
  {
   "cell_type": "code",
   "execution_count": 26,
   "id": "983f070a",
   "metadata": {},
   "outputs": [
    {
     "data": {
      "text/plain": [
       "16"
      ]
     },
     "execution_count": 26,
     "metadata": {},
     "output_type": "execute_result"
    }
   ],
   "source": [
    "square= lambda x: x ** 2 # Define a lambda function that squares the input\n",
    "square(4) # Call the lambda function with input 4"
   ]
  }
 ],
 "metadata": {
  "kernelspec": {
   "display_name": "Python 3",
   "language": "python",
   "name": "python3"
  },
  "language_info": {
   "codemirror_mode": {
    "name": "ipython",
    "version": 3
   },
   "file_extension": ".py",
   "mimetype": "text/x-python",
   "name": "python",
   "nbconvert_exporter": "python",
   "pygments_lexer": "ipython3",
   "version": "3.11.5"
  }
 },
 "nbformat": 4,
 "nbformat_minor": 5
}
