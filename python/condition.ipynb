{
 "cells": [
  {
   "cell_type": "code",
   "execution_count": 1,
   "id": "cbb73eb3",
   "metadata": {},
   "outputs": [],
   "source": [
    "#cell\n",
    "#type of cell\n",
    "#code python code\n",
    "#markdown text image etc"
   ]
  },
  {
   "cell_type": "code",
   "execution_count": 2,
   "id": "7af782db",
   "metadata": {},
   "outputs": [
    {
     "name": "stdout",
     "output_type": "stream",
     "text": [
      "Hello\n"
     ]
    }
   ],
   "source": [
    "print(\"Hello\")"
   ]
  },
  {
   "cell_type": "code",
   "execution_count": 1,
   "id": "60848e03",
   "metadata": {},
   "outputs": [
    {
     "name": "stdout",
     "output_type": "stream",
     "text": [
      "Grade: A\n"
     ]
    }
   ],
   "source": [
    "#task 1\n",
    "# Grading System\n",
    "\n",
    "marks = int(input(\"Enter your marks (0-100): \"))\n",
    "\n",
    "if 90 <= marks <= 100:\n",
    "    print(\"Grade: A\")\n",
    "elif 80 <= marks <= 89:\n",
    "    print(\"Grade: B\")\n",
    "elif 70 <= marks <= 79:\n",
    "    print(\"Grade: C\")\n",
    "elif 0 <= marks < 70:\n",
    "    print(\"Grade: Fail\")\n",
    "else:\n",
    "    print(\"Invalid marks. Please enter a number between 0 and 100.\")"
   ]
  },
  {
   "cell_type": "code",
   "execution_count": 2,
   "id": "cc742a42",
   "metadata": {},
   "outputs": [
    {
     "name": "stdout",
     "output_type": "stream",
     "text": [
      "Largest number is: 87\n"
     ]
    }
   ],
   "source": [
    "#task 2 \n",
    "    # Largest of Three Numbers\n",
    "\n",
    "try:\n",
    "    a = int(input(\"Enter first number: \"))\n",
    "except ValueError:\n",
    "    print(\"Invalid input. Please enter an integer.\")\n",
    "    a = int(input(\"Enter first number: \"))\n",
    "b = int(input(\"Enter second number: \"))\n",
    "c = int(input(\"Enter third number: \"))\n",
    "\n",
    "if a >= b and a >= c:\n",
    "    print(\"Largest number is:\", a)\n",
    "elif b >= a and b >= c:\n",
    "    print(\"Largest number is:\", b)\n",
    "else:\n",
    "    print(\"Largest number is:\", c)"
   ]
  }
 ],
 "metadata": {
  "kernelspec": {
   "display_name": "Python 3",
   "language": "python",
   "name": "python3"
  },
  "language_info": {
   "codemirror_mode": {
    "name": "ipython",
    "version": 3
   },
   "file_extension": ".py",
   "mimetype": "text/x-python",
   "name": "python",
   "nbconvert_exporter": "python",
   "pygments_lexer": "ipython3",
   "version": "3.11.5"
  }
 },
 "nbformat": 4,
 "nbformat_minor": 5
}
