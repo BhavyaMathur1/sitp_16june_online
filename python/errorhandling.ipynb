{
 "cells": [
  {
   "cell_type": "code",
   "execution_count": 1,
   "id": "5e6837b3",
   "metadata": {},
   "outputs": [],
   "source": [
    "#exception handling\n",
    "try:\n",
    "    pass\n",
    "except:\n",
    "    pass\n",
    "else:\n",
    "    pass\n",
    "finally:\n",
    "    pass"
   ]
  },
  {
   "cell_type": "code",
   "execution_count": 9,
   "id": "3dcac665",
   "metadata": {},
   "outputs": [],
   "source": [
    "def divide_numbers(num1, num2):\n",
    "    try:\n",
    "        result = num1 / num2\n",
    "    except ZeroDivisionError as e:\n",
    "        print(f\"Error: Cannot divide by zero. {e}\")\n",
    "        return None\n",
    "    except TypeError as e:\n",
    "        print(f\"Error: Invalid input type. {e}\")\n",
    "        return None\n",
    "    else:\n",
    "        return result"
   ]
  },
  {
   "cell_type": "code",
   "execution_count": 3,
   "id": "d8165287",
   "metadata": {},
   "outputs": [
    {
     "name": "stdout",
     "output_type": "stream",
     "text": [
      "Divided by zero error: division by zero\n"
     ]
    }
   ],
   "source": [
    "try:\n",
    "    x = 10/0\n",
    "except ZeroDivisionError as e:\n",
    "    print(\"Divided by zero error:\", e)"
   ]
  },
  {
   "cell_type": "code",
   "execution_count": 4,
   "id": "4614b0ff",
   "metadata": {},
   "outputs": [
    {
     "name": "stdout",
     "output_type": "stream",
     "text": [
      "error: division by zero\n"
     ]
    }
   ],
   "source": [
    "try:\n",
    "    x = 10/0\n",
    "except Exception as e:\n",
    "    print(\"error:\", e)"
   ]
  },
  {
   "cell_type": "code",
   "execution_count": 8,
   "id": "17f614f3",
   "metadata": {},
   "outputs": [
    {
     "name": "stdout",
     "output_type": "stream",
     "text": [
      "The result is 2.0\n",
      "This will always execute, regardless of an error.\n"
     ]
    }
   ],
   "source": [
    "try:\n",
    "        num=int(input(\"Enter your first number\"))\n",
    "        result = 10 / num\n",
    "\n",
    "except ZeroDivisionError as e:\n",
    "        print(\"You cannot divide by zero\", e)\n",
    "\n",
    "except ValueError as e:\n",
    "        print(\"Invalid input please enter a number\", e)\n",
    "\n",
    "else:\n",
    "        print(\"The result is\", result)\n",
    "\n",
    "finally:\n",
    "        print(\"This will always execute, regardless of an error.\")\n"
   ]
  },
  {
   "cell_type": "code",
   "execution_count": 17,
   "id": "cde78d7a",
   "metadata": {},
   "outputs": [],
   "source": [
    "# Raising a custom exception example\n",
    "\n",
    "def check_age(age):\n",
    "    if age < 18:\n",
    "        raise ValueError(\"Age must be at least 18 \")\n",
    "    else:\n",
    "         print(\"You are eligible.\")\n",
    "\n",
    "    try:\n",
    "        check_age(10)\n",
    "\n",
    "    except ValueError as e:\n",
    "        print(\"e\")\n"
   ]
  },
  {
   "cell_type": "code",
   "execution_count": null,
   "id": "04295d0f",
   "metadata": {},
   "outputs": [],
   "source": []
  },
  {
   "cell_type": "code",
   "execution_count": null,
   "id": "34ac93a5",
   "metadata": {},
   "outputs": [],
   "source": []
  },
  {
   "cell_type": "code",
   "execution_count": null,
   "id": "63b49f79",
   "metadata": {},
   "outputs": [],
   "source": []
  },
  {
   "cell_type": "code",
   "execution_count": null,
   "id": "fe54092c",
   "metadata": {},
   "outputs": [],
   "source": []
  },
  {
   "cell_type": "code",
   "execution_count": null,
   "id": "2f5c7079",
   "metadata": {},
   "outputs": [],
   "source": []
  },
  {
   "cell_type": "code",
   "execution_count": null,
   "id": "40cf5da9",
   "metadata": {},
   "outputs": [],
   "source": []
  }
 ],
 "metadata": {
  "kernelspec": {
   "display_name": "Python 3",
   "language": "python",
   "name": "python3"
  },
  "language_info": {
   "codemirror_mode": {
    "name": "ipython",
    "version": 3
   },
   "file_extension": ".py",
   "mimetype": "text/x-python",
   "name": "python",
   "nbconvert_exporter": "python",
   "pygments_lexer": "ipython3",
   "version": "3.11.5"
  }
 },
 "nbformat": 4,
 "nbformat_minor": 5
}
