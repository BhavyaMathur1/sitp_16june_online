{
 "cells": [
  {
   "cell_type": "markdown",
   "id": "cdb360ca",
   "metadata": {},
   "source": [
    "# **File Handling**\n"
   ]
  },
  {
   "cell_type": "markdown",
   "id": "8a4b126e",
   "metadata": {},
   "source": [
    "| Mode   | Description                                                  |\n",
    "| ------ | ------------------------------------------------------------ |\n",
    "| `\"r\"`  | Read mode (default), error if file doesn't exist             |\n",
    "| `\"w\"`  | Write mode, creates a file if not exist, overwrites existing |\n",
    "| `\"a\"`  | Append mode, adds content to end of file                     |\n",
    "| `\"x\"`  | Create mode, error if file already exists                    |\n",
    "                                         |"
   ]
  },
  {
   "cell_type": "code",
   "execution_count": 10,
   "id": "b1ce58f6",
   "metadata": {},
   "outputs": [
    {
     "name": "stdout",
     "output_type": "stream",
     "text": [
      "Hello, my name is Bhavya Mathur.\n",
      "This is a demo text file.\n",
      "\n"
     ]
    }
   ],
   "source": [
    "# Open a file for reading\n",
    "file = open(\"demo.txt\", \"r\")  # \"r\" means read mode\n",
    "\n",
    "# Read the contents\n",
    "content = file.read()\n",
    "print(content)\n",
    "\n",
    "# Always close the file after use\n",
    "file.close()"
   ]
  },
  {
   "cell_type": "code",
   "execution_count": 6,
   "id": "500e0899",
   "metadata": {},
   "outputs": [],
   "source": [
    "file = open(\"demo.txt\", \"r\")  # Reopen the file for reading"
   ]
  },
  {
   "cell_type": "code",
   "execution_count": 11,
   "id": "667ecae6",
   "metadata": {},
   "outputs": [],
   "source": [
    "# Create and write to a demo text file\n",
    "with open(\"demo.txt\", \"w\") as file:\n",
    "    file.write(\"Hello, my name is Bhavya Mathur.\\n\")\n",
    "    file.write(\"This is a demo text file.\\n\")"
   ]
  },
  {
   "cell_type": "code",
   "execution_count": 9,
   "id": "3eca9c8e",
   "metadata": {},
   "outputs": [
    {
     "name": "stdout",
     "output_type": "stream",
     "text": [
      "Hello, my name is Bhavya Mathur.\n",
      "This is a demo text file.\n",
      "\n"
     ]
    }
   ],
   "source": [
    "try:\n",
    "    with open(\"demo.txt\", \"r\") as file:\n",
    "        lines = file.read()\n",
    "        print(lines)\n",
    "\n",
    "except FileNotFoundError:\n",
    "    print(\"The file does not exist.\")"
   ]
  },
  {
   "cell_type": "code",
   "execution_count": 20,
   "metadata": {},
   "outputs": [],
   "source": [
    "# Open the file in write mode and write a line to it\n",
    "with open(\"demo.txt\", \"w\") as file:\n",
    "\tfile.write(\"I am from Ajmer, Rajasthan.\")\n"
   ]
  },
  {
   "cell_type": "code",
   "execution_count": 16,
   "id": "cc83a842",
   "metadata": {},
   "outputs": [],
   "source": [
    "file = open(\"demo.txt\", \"a\")  # \"a\" means append mode\n",
    "file.write(\"Hello, this is bhavya mathur.\")\n",
    "# Close the file after appending\n",
    "file.close()"
   ]
  },
  {
   "cell_type": "code",
   "execution_count": 21,
   "id": "712d081b",
   "metadata": {},
   "outputs": [
    {
     "data": {
      "text/plain": [
       "'I am from Ajmer, Rajasthan.'"
      ]
     },
     "execution_count": 21,
     "metadata": {},
     "output_type": "execute_result"
    }
   ],
   "source": [
    "file = open(\"demo.txt\", \"r\")  # Reopen the file for reading\n",
    "file.read()  # Read the contents again"
   ]
  },
  {
   "cell_type": "code",
   "execution_count": 25,
   "id": "5e029859",
   "metadata": {},
   "outputs": [
    {
     "name": "stdout",
     "output_type": "stream",
     "text": [
      "The file 'demo.txt' already exists.\n"
     ]
    }
   ],
   "source": [
    "try:\n",
    "\tfile = open(\"demo.txt\", \"x\")\n",
    "\tfile.write(\"This file is created using x mode.\")\n",
    "\tfile.close()\n",
    "except FileExistsError:\n",
    "\tprint(\"The file 'demo.txt' already exists.\")"
   ]
  },
  {
   "cell_type": "code",
   "execution_count": 28,
   "metadata": {},
   "outputs": [],
   "source": [
    "file = open(\"newfile.txt\", 'w')\n",
    "file.write(\"This file is created using x mode.\")\n",
    "file.close()\n",
    "\n",
    "# Create 'test.txt' before reading\n",
    "with open(\"test.txt\", \"w\") as f:\n",
    "\tf.write(\"This is a test file.\")\n",
    "\n",
    "file = open(\"test.txt\", 'r')"
   ]
  },
  {
   "cell_type": "code",
   "execution_count": null,
   "id": "e51e21ed",
   "metadata": {},
   "outputs": [],
   "source": []
  },
  {
   "cell_type": "code",
   "execution_count": null,
   "id": "0541a861",
   "metadata": {},
   "outputs": [],
   "source": []
  },
  {
   "cell_type": "code",
   "execution_count": null,
   "id": "bcb3e342",
   "metadata": {},
   "outputs": [],
   "source": []
  },
  {
   "cell_type": "code",
   "execution_count": null,
   "id": "37d658b9",
   "metadata": {},
   "outputs": [],
   "source": []
  },
  {
   "cell_type": "code",
   "execution_count": null,
   "id": "64699175",
   "metadata": {},
   "outputs": [],
   "source": []
  },
  {
   "cell_type": "code",
   "execution_count": null,
   "id": "65b5a2e2",
   "metadata": {},
   "outputs": [],
   "source": []
  },
  {
   "cell_type": "code",
   "execution_count": null,
   "id": "de1f86e2",
   "metadata": {},
   "outputs": [],
   "source": []
  },
  {
   "cell_type": "code",
   "execution_count": null,
   "id": "b468594a",
   "metadata": {},
   "outputs": [],
   "source": []
  },
  {
   "cell_type": "code",
   "execution_count": null,
   "id": "11b8b72d",
   "metadata": {},
   "outputs": [],
   "source": []
  },
  {
   "cell_type": "code",
   "execution_count": null,
   "id": "782977b2",
   "metadata": {},
   "outputs": [],
   "source": []
  }
 ],
 "metadata": {
  "kernelspec": {
   "display_name": "Python 3",
   "language": "python",
   "name": "python3"
  },
  "language_info": {
   "codemirror_mode": {
    "name": "ipython",
    "version": 3
   },
   "file_extension": ".py",
   "mimetype": "text/x-python",
   "name": "python",
   "nbconvert_exporter": "python",
   "pygments_lexer": "ipython3",
   "version": "3.11.5"
  }
 },
 "nbformat": 4,
 "nbformat_minor": 5
}
