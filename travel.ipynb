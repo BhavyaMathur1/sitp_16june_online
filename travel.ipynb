{
 "cells": [
  {
   "cell_type": "code",
   "execution_count": 1,
   "id": "03dc57c1",
   "metadata": {},
   "outputs": [
    {
     "name": "stdout",
     "output_type": "stream",
     "text": [
      "✅ Encoding completed. Encoded data saved as encoded_bus_data.csv\n",
      "   Operator  price  Bus Type  Seats Left  Window Seats  rating  Source  \\\n",
      "0       365   1330        23          16             9     5.0       0   \n",
      "1       846   2499        10          26            11     5.0       0   \n",
      "2       266   1489         9          13             9     5.0       0   \n",
      "3       525    474        28          44            20     4.4       0   \n",
      "4       266   1619         1          10             4     5.0       0   \n",
      "\n",
      "   Destination  distance  Departure Hour  Arrival Hour  Travel Duration (min)  \n",
      "0            5       240               4             6                    165  \n",
      "1            5       240               2             5                    220  \n",
      "2            5       240               3             7                    205  \n",
      "3            5       240              21             1                    285  \n",
      "4            5       240               1             3                    145  \n"
     ]
    }
   ],
   "source": [
    "import pandas as pd\n",
    "from sklearn.preprocessing import LabelEncoder\n",
    "\n",
    "# Load dataset\n",
    "df = pd.read_csv(\"cleaned_bus.csv.csv\")\n",
    "\n",
    "# 1. Remove unwanted column\n",
    "if \"Unnamed: 0\" in df.columns:\n",
    "    df.drop(columns=[\"Unnamed: 0\"], inplace=True)\n",
    "\n",
    "# 2. Convert Departure & Arrival Time to hour\n",
    "df['Departure Hour'] = pd.to_datetime(df['Departure Time']).dt.hour\n",
    "df['Arrival Hour'] = pd.to_datetime(df['Arrival Time']).dt.hour\n",
    "\n",
    "# 3. Convert Travel Duration to total minutes\n",
    "def duration_to_minutes(duration):\n",
    "    parts = duration.replace(\"hrs\", \"\").replace(\"mins\", \"\").split()\n",
    "    hours = int(parts[0]) if len(parts) > 0 else 0\n",
    "    mins = int(parts[1]) if len(parts) > 1 else 0\n",
    "    return hours * 60 + mins\n",
    "\n",
    "df['Travel Duration (min)'] = df['Travel Duration'].apply(duration_to_minutes)\n",
    "\n",
    "# 4. Encode categorical columns\n",
    "le_operator = LabelEncoder()\n",
    "le_bus_type = LabelEncoder()\n",
    "le_source = LabelEncoder()\n",
    "le_destination = LabelEncoder()\n",
    "\n",
    "df['Operator'] = le_operator.fit_transform(df['Operator'])\n",
    "df['Bus Type'] = le_bus_type.fit_transform(df['Bus Type'])\n",
    "df['Source'] = le_source.fit_transform(df['Source'])\n",
    "df['Destination'] = le_destination.fit_transform(df['Destination'])\n",
    "\n",
    "# 5. Drop original date/time text columns\n",
    "df.drop(columns=[\"Departure Time\", \"Arrival Time\", \"Travel Duration\"], inplace=True)\n",
    "\n",
    "# 6. Save processed data\n",
    "df.to_csv(\"encoded_bus_data.csv\", index=False)\n",
    "\n",
    "print(\"✅ Encoding completed. Encoded data saved as encoded_bus_data.csv\")\n",
    "print(df.head())\n"
   ]
  },
  {
   "cell_type": "code",
   "execution_count": 2,
   "id": "3e8985c2",
   "metadata": {},
   "outputs": [
    {
     "name": "stdout",
     "output_type": "stream",
     "text": [
      "✅ R² Score: 0.40313866336957993\n",
      "✅ MAE: 436.29361890447564\n",
      "✅ Model saved as travel_model.pkl\n"
     ]
    }
   ],
   "source": [
    "import pandas as pd\n",
    "from sklearn.model_selection import train_test_split\n",
    "from sklearn.ensemble import RandomForestRegressor\n",
    "from sklearn.metrics import r2_score, mean_absolute_error\n",
    "import joblib\n",
    "\n",
    "# Load encoded dataset\n",
    "df = pd.read_csv(\"encoded_bus_data.csv\")\n",
    "\n",
    "# Features (X) and Target (y)\n",
    "X = df.drop(columns=[\"price\"])  # All features except price\n",
    "y = df[\"price\"]                # Target variable\n",
    "\n",
    "# Split data\n",
    "X_train, X_test, y_train, y_test = train_test_split(X, y, test_size=0.2, random_state=42)\n",
    "\n",
    "# Train Random Forest model\n",
    "model = RandomForestRegressor(n_estimators=200, random_state=42)\n",
    "model.fit(X_train, y_train)\n",
    "\n",
    "# Predictions\n",
    "y_pred = model.predict(X_test)\n",
    "\n",
    "# Model Evaluation\n",
    "print(\"✅ R² Score:\", r2_score(y_test, y_pred))\n",
    "print(\"✅ MAE:\", mean_absolute_error(y_test, y_pred))\n",
    "\n",
    "# Save trained model\n",
    "joblib.dump(model, \"travel_model.pkl\")\n",
    "print(\"✅ Model saved as travel_model.pkl\")\n"
   ]
  },
  {
   "cell_type": "code",
   "execution_count": 3,
   "id": "f8116be8",
   "metadata": {},
   "outputs": [
    {
     "name": "stdout",
     "output_type": "stream",
     "text": [
      "✅ Multi-output model trained & saved.\n"
     ]
    }
   ],
   "source": [
    "import pandas as pd\n",
    "from sklearn.model_selection import train_test_split\n",
    "from sklearn.ensemble import RandomForestRegressor\n",
    "from sklearn.multioutput import MultiOutputRegressor\n",
    "import joblib\n",
    "\n",
    "# Load dataset\n",
    "df = pd.read_csv(\"encoded_bus_data.csv\")\n",
    "\n",
    "# Features and targets\n",
    "X = df[[\"Operator\", \"Bus Type\", \"Source\", \"Destination\", \"distance\", \"rating\"]]\n",
    "y = df[[\"price\", \"Seats Left\", \"Window Seats\", \"Departure Hour\", \"Arrival Hour\", \"Travel Duration (min)\"]]\n",
    "\n",
    "# Split dataset\n",
    "X_train, X_test, y_train, y_test = train_test_split(X, y, test_size=0.2, random_state=42)\n",
    "\n",
    "# Train Multi-Output Random Forest\n",
    "model = MultiOutputRegressor(RandomForestRegressor(n_estimators=200, random_state=42))\n",
    "model.fit(X_train, y_train)\n",
    "\n",
    "# Save model\n",
    "joblib.dump(model, \"travel_multi_model.pkl\")\n",
    "print(\"✅ Multi-output model trained & saved.\")\n"
   ]
  },
  {
   "cell_type": "code",
   "execution_count": null,
   "id": "c75543c3",
   "metadata": {},
   "outputs": [],
   "source": []
  }
 ],
 "metadata": {
  "kernelspec": {
   "display_name": "Python 3",
   "language": "python",
   "name": "python3"
  },
  "language_info": {
   "codemirror_mode": {
    "name": "ipython",
    "version": 3
   },
   "file_extension": ".py",
   "mimetype": "text/x-python",
   "name": "python",
   "nbconvert_exporter": "python",
   "pygments_lexer": "ipython3",
   "version": "3.11.5"
  }
 },
 "nbformat": 4,
 "nbformat_minor": 5
}
